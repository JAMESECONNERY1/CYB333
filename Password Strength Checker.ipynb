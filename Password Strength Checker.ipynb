{
 "cells": [
  {
   "cell_type": "code",
   "execution_count": null,
   "metadata": {},
   "outputs": [
    {
     "name": "stdout",
     "output_type": "stream",
     "text": [
      "Welcome to the Password Strength Checker!\n",
      "Enter a password to check its strength. Type 'exit' to quit.\n",
      "Weak: Password must have at least one number.\n",
      "Score: 4/5. Improve your password!\n",
      "Strong: Password is strong!\n",
      "Strong: Password is strong!\n"
     ]
    }
   ],
   "source": [
    "import re\n",
    "\n",
    "def check_password_strength(password):\n",
    "    score = 0\n",
    "    feedback = []\n",
    "\n",
    "    if len(password) < 8:\n",
    "        feedback.append(\"Weak: Password must be at least 8 characters long.\")\n",
    "    else:\n",
    "        score += 1\n",
    "\n",
    "    if re.search(r\"[A-Z]\", password):\n",
    "        score += 1\n",
    "    else:\n",
    "        feedback.append(\"Weak: Password must have at least one uppercase letter.\")\n",
    "\n",
    "    if re.search(r\"[a-z]\", password):\n",
    "        score += 1\n",
    "    else:\n",
    "        feedback.append(\"Weak: Password must have at least one lowercase letter.\")\n",
    "\n",
    "    if re.search(r\"[0-9]\", password):\n",
    "        score += 1\n",
    "    else:\n",
    "        feedback.append(\"Weak: Password must have at least one number.\")\n",
    "\n",
    "    if re.search(r\"[!@#$%^&*(),.?\\\":{}|<>]\", password):\n",
    "        score += 1\n",
    "    else:\n",
    "        feedback.append(\"Weak: Password must have at least one special character.\")\n",
    "\n",
    "    if score == 5:\n",
    "        return \"Strong: Password is strong!\"\n",
    "    else:\n",
    "        return \"\\n\".join(feedback) + f\"\\nScore: {score}/5. Improve your password!\"\n",
    "\n",
    "def main():\n",
    "    print(\"Welcome to the Password Strength Checker!\")\n",
    "    print(\"Enter a password to check its strength. Type 'exit' to quit.\")\n",
    "    \n",
    "    while True:\n",
    "        user_password = input(\"Enter a password to check: \")\n",
    "        if user_password.lower() == 'exit':\n",
    "            print(\"Goodbye!\")\n",
    "            break\n",
    "        print(check_password_strength(user_password))\n",
    "\n",
    "if __name__ == \"__main__\":\n",
    "    main()"
   ]
  }
 ],
 "metadata": {
  "kernelspec": {
   "display_name": "Python 3",
   "language": "python",
   "name": "python3"
  },
  "language_info": {
   "codemirror_mode": {
    "name": "ipython",
    "version": 3
   },
   "file_extension": ".py",
   "mimetype": "text/x-python",
   "name": "python",
   "nbconvert_exporter": "python",
   "pygments_lexer": "ipython3",
   "version": "3.12.6"
  }
 },
 "nbformat": 4,
 "nbformat_minor": 2
}
